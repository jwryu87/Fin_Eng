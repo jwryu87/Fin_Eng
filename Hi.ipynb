{
 "cells": [
  {
   "cell_type": "code",
   "execution_count": 7,
   "metadata": {},
   "outputs": [
    {
     "data": {
      "text/plain": [
       "5"
      ]
     },
     "execution_count": 7,
     "metadata": {},
     "output_type": "execute_result"
    }
   ],
   "source": [
    "def f(x):\n",
    "    y = x + 1\n",
    "    return y\n",
    "\n",
    "f(4)"
   ]
  },
  {
   "cell_type": "code",
   "execution_count": 10,
   "metadata": {},
   "outputs": [],
   "source": [
    "import bs4\n",
    "\n",
    "from urllib.request import urlopen\n",
    "\n",
    "import pandas as pd"
   ]
  },
  {
   "cell_type": "code",
   "execution_count": 14,
   "metadata": {},
   "outputs": [
    {
     "name": "stdout",
     "output_type": "stream",
     "text": [
      "<html>\n",
      " <head>\n",
      "  <title>\n",
      "   The Office\n",
      "  </title>\n",
      " </head>\n",
      " <body>\n",
      "  <p class=\"title\">\n",
      "   <b>\n",
      "    The Office\n",
      "   </b>\n",
      "  </p>\n",
      "  <p class=\"story\">\n",
      "   In my office, there are four officers,\n",
      "   <a class=\"member\" href=\"http://example.com/YW\">\n",
      "    YW\n",
      "   </a>\n",
      "   ,\n",
      "   <a class=\"member\" href=\"http://example.com/JK\">\n",
      "    JK\n",
      "   </a>\n",
      "   ,\n",
      "   <a class=\"member\" href=\"http://example.com/YJ\">\n",
      "    YJ\n",
      "   </a>\n",
      "   and\n",
      "   <a class=\"member\" href=\"http://example.com/KS\">\n",
      "    KS\n",
      "   </a>\n",
      "   .\n",
      "  </p>\n",
      "  <p class=\"story\">\n",
      "   ...\n",
      "  </p>\n",
      " </body>\n",
      "</html>\n"
     ]
    },
    {
     "data": {
      "text/plain": [
       "<a class=\"member\" href=\"http://example.com/YW\">YW</a>"
      ]
     },
     "execution_count": 14,
     "metadata": {},
     "output_type": "execute_result"
    }
   ],
   "source": [
    "from bs4 import BeautifulSoup\n",
    "\n",
    "html_doc = \"\"\"\n",
    "<html><head><title>The Office</title></head>\n",
    "<body>\n",
    "<p class=\"title\"><b>The Office</b></p>\n",
    "<p class=\"story\">In my office, there are four officers,\n",
    "<a href=\"http://example.com/YW\" class=\"member\">YW</a>,\n",
    "<a href=\"http://example.com/JK\" class=\"member\">JK</a>,\n",
    "<a href=\"http://example.com/YJ\" class=\"member\">YJ</a> and\n",
    "<a href=\"http://example.com/KS\" class=\"member\">KS</a>\n",
    ".</p>\n",
    "<p class=\"story\">...</p>\n",
    "\"\"\"\n",
    "\n",
    "soup = BeautifulSoup(html_doc, 'html.parser')\n",
    "\n",
    "print(soup.prettify())\n"
   ]
  },
  {
   "cell_type": "code",
   "execution_count": 16,
   "metadata": {},
   "outputs": [
    {
     "data": {
      "text/plain": [
       "<title>The Office</title>"
      ]
     },
     "execution_count": 16,
     "metadata": {},
     "output_type": "execute_result"
    }
   ],
   "source": [
    "soup.title"
   ]
  },
  {
   "cell_type": "code",
   "execution_count": 27,
   "metadata": {},
   "outputs": [
    {
     "name": "stdout",
     "output_type": "stream",
     "text": [
      "YW\n",
      "JK\n",
      "YJ\n",
      "KS\n"
     ]
    }
   ],
   "source": [
    "member = soup.find_all('a')\n",
    "for m in member:\n",
    "    print(m.text)\n",
    "\n"
   ]
  }
 ],
 "metadata": {
  "kernelspec": {
   "display_name": "Python 3",
   "language": "python",
   "name": "python3"
  },
  "language_info": {
   "codemirror_mode": {
    "name": "ipython",
    "version": 3
   },
   "file_extension": ".py",
   "mimetype": "text/x-python",
   "name": "python",
   "nbconvert_exporter": "python",
   "pygments_lexer": "ipython3",
   "version": "3.7.3"
  }
 },
 "nbformat": 4,
 "nbformat_minor": 2
}
